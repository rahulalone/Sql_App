{
  "cells": [
    {
      "cell_type": "code",
      "execution_count": 1,
      "metadata": {
        "colab": {
          "base_uri": "https://localhost:8080/"
        },
        "id": "6FmVvMgHbpSU",
        "outputId": "37ed4803-1e4e-4be7-9dc2-950713311a62"
      },
      "outputs": [
        {
          "name": "stdout",
          "output_type": "stream",
          "text": [
            "Collecting db-sqlite3\n",
            "  Downloading db-sqlite3-0.0.1.tar.gz (1.4 kB)\n",
            "  Preparing metadata (setup.py): started\n",
            "  Preparing metadata (setup.py): finished with status 'done'\n",
            "Collecting db (from db-sqlite3)\n",
            "  Downloading db-0.1.1.tar.gz (3.4 kB)\n",
            "  Preparing metadata (setup.py): started\n",
            "  Preparing metadata (setup.py): finished with status 'done'\n",
            "Collecting antiorm (from db->db-sqlite3)\n",
            "  Downloading antiorm-1.2.1.tar.gz (171 kB)\n",
            "  Preparing metadata (setup.py): started\n",
            "  Preparing metadata (setup.py): finished with status 'done'\n",
            "Building wheels for collected packages: db-sqlite3, db, antiorm\n",
            "  Building wheel for db-sqlite3 (setup.py): started\n",
            "  Building wheel for db-sqlite3 (setup.py): finished with status 'done'\n",
            "  Created wheel for db-sqlite3: filename=db_sqlite3-0.0.1-py3-none-any.whl size=1774 sha256=5bf7c25248efd98b62a1bfee7fe813a7fb0b8238cd67fd9dc12bef7c40c5dd70\n",
            "  Stored in directory: c:\\users\\hp\\appdata\\local\\pip\\cache\\wheels\\ae\\1d\\1b\\a7a9f1a2ffeab40763c36468cbe31f60956d845d0ffff9d63a\n",
            "  Building wheel for db (setup.py): started\n",
            "  Building wheel for db (setup.py): finished with status 'done'\n",
            "  Created wheel for db: filename=db-0.1.1-py3-none-any.whl size=3882 sha256=71be0b766eee87de2c7cc488da3337ff8996f537b7a1d09af31e7b0bf620e7ff\n",
            "  Stored in directory: c:\\users\\hp\\appdata\\local\\pip\\cache\\wheels\\21\\05\\d2\\c60de29c952fc0271d86f14b6faf956e8be1eef3052bbd0591\n",
            "  Building wheel for antiorm (setup.py): started\n",
            "  Building wheel for antiorm (setup.py): finished with status 'done'\n",
            "  Created wheel for antiorm: filename=antiorm-1.2.1-py3-none-any.whl size=31675 sha256=d44f7e583b0ffa2db7b5b727c30eb9994c0b86dbf6e49582d8699a09883610d4\n",
            "  Stored in directory: c:\\users\\hp\\appdata\\local\\pip\\cache\\wheels\\a6\\9c\\6a\\8f779b3f874520f2a86c5dba302cd0feffe1553c583b47806d\n",
            "Successfully built db-sqlite3 db antiorm\n",
            "Installing collected packages: antiorm, db, db-sqlite3\n",
            "\n",
            "   ---------------------------------------- 3/3 [db-sqlite3]\n",
            "\n",
            "Successfully installed antiorm-1.2.1 db-0.1.1 db-sqlite3-0.0.1\n"
          ]
        },
        {
          "name": "stderr",
          "output_type": "stream",
          "text": [
            "  DEPRECATION: Building 'db-sqlite3' using the legacy setup.py bdist_wheel mechanism, which will be removed in a future version. pip 25.3 will enforce this behaviour change. A possible replacement is to use the standardized build interface by setting the `--use-pep517` option, (possibly combined with `--no-build-isolation`), or adding a `pyproject.toml` file to the source tree of 'db-sqlite3'. Discussion can be found at https://github.com/pypa/pip/issues/6334\n",
            "  DEPRECATION: Building 'db' using the legacy setup.py bdist_wheel mechanism, which will be removed in a future version. pip 25.3 will enforce this behaviour change. A possible replacement is to use the standardized build interface by setting the `--use-pep517` option, (possibly combined with `--no-build-isolation`), or adding a `pyproject.toml` file to the source tree of 'db'. Discussion can be found at https://github.com/pypa/pip/issues/6334\n",
            "  DEPRECATION: Building 'antiorm' using the legacy setup.py bdist_wheel mechanism, which will be removed in a future version. pip 25.3 will enforce this behaviour change. A possible replacement is to use the standardized build interface by setting the `--use-pep517` option, (possibly combined with `--no-build-isolation`), or adding a `pyproject.toml` file to the source tree of 'antiorm'. Discussion can be found at https://github.com/pypa/pip/issues/6334\n"
          ]
        },
        {
          "name": "stdout",
          "output_type": "stream",
          "text": [
            "Requirement already satisfied: streamlit in c:\\users\\hp\\anaconda3\\lib\\site-packages (1.45.1)\n",
            "Requirement already satisfied: altair<6,>=4.0 in c:\\users\\hp\\anaconda3\\lib\\site-packages (from streamlit) (5.5.0)\n",
            "Requirement already satisfied: blinker<2,>=1.5.0 in c:\\users\\hp\\anaconda3\\lib\\site-packages (from streamlit) (1.9.0)\n",
            "Requirement already satisfied: cachetools<6,>=4.0 in c:\\users\\hp\\anaconda3\\lib\\site-packages (from streamlit) (5.5.1)\n",
            "Requirement already satisfied: click<9,>=7.0 in c:\\users\\hp\\anaconda3\\lib\\site-packages (from streamlit) (8.1.8)\n",
            "Requirement already satisfied: numpy<3,>=1.23 in c:\\users\\hp\\anaconda3\\lib\\site-packages (from streamlit) (2.1.3)\n",
            "Requirement already satisfied: packaging<25,>=20 in c:\\users\\hp\\anaconda3\\lib\\site-packages (from streamlit) (24.2)\n",
            "Requirement already satisfied: pandas<3,>=1.4.0 in c:\\users\\hp\\anaconda3\\lib\\site-packages (from streamlit) (2.2.3)\n",
            "Requirement already satisfied: pillow<12,>=7.1.0 in c:\\users\\hp\\anaconda3\\lib\\site-packages (from streamlit) (11.1.0)\n",
            "Requirement already satisfied: protobuf<7,>=3.20 in c:\\users\\hp\\anaconda3\\lib\\site-packages (from streamlit) (5.29.3)\n",
            "Requirement already satisfied: pyarrow>=7.0 in c:\\users\\hp\\anaconda3\\lib\\site-packages (from streamlit) (19.0.0)\n",
            "Requirement already satisfied: requests<3,>=2.27 in c:\\users\\hp\\anaconda3\\lib\\site-packages (from streamlit) (2.32.3)\n",
            "Requirement already satisfied: tenacity<10,>=8.1.0 in c:\\users\\hp\\anaconda3\\lib\\site-packages (from streamlit) (8.5.0)\n",
            "Requirement already satisfied: toml<2,>=0.10.1 in c:\\users\\hp\\anaconda3\\lib\\site-packages (from streamlit) (0.10.2)\n",
            "Requirement already satisfied: typing-extensions<5,>=4.4.0 in c:\\users\\hp\\anaconda3\\lib\\site-packages (from streamlit) (4.12.2)\n",
            "Requirement already satisfied: watchdog<7,>=2.1.5 in c:\\users\\hp\\anaconda3\\lib\\site-packages (from streamlit) (4.0.2)\n",
            "Requirement already satisfied: gitpython!=3.1.19,<4,>=3.0.7 in c:\\users\\hp\\anaconda3\\lib\\site-packages (from streamlit) (3.1.43)\n",
            "Requirement already satisfied: tornado<7,>=6.0.3 in c:\\users\\hp\\anaconda3\\lib\\site-packages (from streamlit) (6.5.1)\n",
            "Requirement already satisfied: jinja2 in c:\\users\\hp\\anaconda3\\lib\\site-packages (from altair<6,>=4.0->streamlit) (3.1.6)\n",
            "Requirement already satisfied: jsonschema>=3.0 in c:\\users\\hp\\anaconda3\\lib\\site-packages (from altair<6,>=4.0->streamlit) (4.23.0)\n",
            "Requirement already satisfied: narwhals>=1.14.2 in c:\\users\\hp\\anaconda3\\lib\\site-packages (from altair<6,>=4.0->streamlit) (1.31.0)\n",
            "Requirement already satisfied: colorama in c:\\users\\hp\\anaconda3\\lib\\site-packages (from click<9,>=7.0->streamlit) (0.4.6)\n",
            "Requirement already satisfied: gitdb<5,>=4.0.1 in c:\\users\\hp\\anaconda3\\lib\\site-packages (from gitpython!=3.1.19,<4,>=3.0.7->streamlit) (4.0.7)\n",
            "Requirement already satisfied: smmap<5,>=3.0.1 in c:\\users\\hp\\anaconda3\\lib\\site-packages (from gitdb<5,>=4.0.1->gitpython!=3.1.19,<4,>=3.0.7->streamlit) (4.0.0)\n",
            "Requirement already satisfied: python-dateutil>=2.8.2 in c:\\users\\hp\\anaconda3\\lib\\site-packages (from pandas<3,>=1.4.0->streamlit) (2.9.0.post0)\n",
            "Requirement already satisfied: pytz>=2020.1 in c:\\users\\hp\\anaconda3\\lib\\site-packages (from pandas<3,>=1.4.0->streamlit) (2024.1)\n",
            "Requirement already satisfied: tzdata>=2022.7 in c:\\users\\hp\\anaconda3\\lib\\site-packages (from pandas<3,>=1.4.0->streamlit) (2025.2)\n",
            "Requirement already satisfied: charset-normalizer<4,>=2 in c:\\users\\hp\\anaconda3\\lib\\site-packages (from requests<3,>=2.27->streamlit) (3.3.2)\n",
            "Requirement already satisfied: idna<4,>=2.5 in c:\\users\\hp\\anaconda3\\lib\\site-packages (from requests<3,>=2.27->streamlit) (3.7)\n",
            "Requirement already satisfied: urllib3<3,>=1.21.1 in c:\\users\\hp\\anaconda3\\lib\\site-packages (from requests<3,>=2.27->streamlit) (2.3.0)\n",
            "Requirement already satisfied: certifi>=2017.4.17 in c:\\users\\hp\\anaconda3\\lib\\site-packages (from requests<3,>=2.27->streamlit) (2025.6.15)\n",
            "Requirement already satisfied: attrs>=22.2.0 in c:\\users\\hp\\anaconda3\\lib\\site-packages (from jsonschema>=3.0->altair<6,>=4.0->streamlit) (24.3.0)\n",
            "Requirement already satisfied: jsonschema-specifications>=2023.03.6 in c:\\users\\hp\\anaconda3\\lib\\site-packages (from jsonschema>=3.0->altair<6,>=4.0->streamlit) (2023.7.1)\n",
            "Requirement already satisfied: referencing>=0.28.4 in c:\\users\\hp\\anaconda3\\lib\\site-packages (from jsonschema>=3.0->altair<6,>=4.0->streamlit) (0.30.2)\n",
            "Requirement already satisfied: rpds-py>=0.7.1 in c:\\users\\hp\\anaconda3\\lib\\site-packages (from jsonschema>=3.0->altair<6,>=4.0->streamlit) (0.22.3)\n",
            "Requirement already satisfied: six>=1.5 in c:\\users\\hp\\anaconda3\\lib\\site-packages (from python-dateutil>=2.8.2->pandas<3,>=1.4.0->streamlit) (1.17.0)\n",
            "Requirement already satisfied: MarkupSafe>=2.0 in c:\\users\\hp\\anaconda3\\lib\\site-packages (from jinja2->altair<6,>=4.0->streamlit) (3.0.2)\n"
          ]
        },
        {
          "name": "stderr",
          "output_type": "stream",
          "text": [
            "npm notice \n",
            "npm notice New major version of npm available! 10.2.4 -> 11.5.2\n",
            "npm notice Changelog: <https://github.com/npm/cli/releases/tag/v11.5.2>\n",
            "npm notice Run `npm install -g npm@11.5.2` to update!\n",
            "npm notice \n",
            "npm ERR! code E404\n",
            "npm ERR! 404 Not Found - GET https://registry.npmjs.org/localtunel - Not found\n",
            "npm ERR! 404 \n",
            "npm ERR! 404  'localtunel@*' is not in this registry.\n",
            "npm ERR! 404 \n",
            "npm ERR! 404 Note that you can also install from a\n",
            "npm ERR! 404 tarball, folder, http url, or git url.\n",
            "\n",
            "npm ERR! A complete log of this run can be found in: C:\\Users\\HP\\AppData\\Local\\npm-cache\\_logs\\2025-08-30T12_40_34_083Z-debug-0.log\n"
          ]
        }
      ],
      "source": [
        "!pip install db-sqlite3\n",
        "! pip install streamlit\n",
        "!npm install localtunel"
      ]
    },
    {
      "cell_type": "code",
      "execution_count": 2,
      "metadata": {
        "colab": {
          "base_uri": "https://localhost:8080/"
        },
        "id": "Gm1shn5cylsm",
        "outputId": "2bdea8b0-2c23-489c-e403-50851d97f936"
      },
      "outputs": [
        {
          "name": "stdout",
          "output_type": "stream",
          "text": [
            "The inserted records are\n",
            "('Omkar Nallagoni', 'Data Science', 75000.0)\n",
            "('Naresh', 'Data Science', 90000.0)\n",
            "('Phani', 'Data Science', 88000.0)\n",
            "('Naga babu', 'Data Engineer', 50000.0)\n",
            "('Ajay', 'Data Engineer', 35000.0)\n",
            "('Pawan', 'Data Engineer', 60000.0)\n"
          ]
        }
      ],
      "source": [
        "!python sql.py"
      ]
    },
    {
      "cell_type": "code",
      "execution_count": null,
      "metadata": {
        "colab": {
          "base_uri": "https://localhost:8080/"
        },
        "id": "6cxFOAuQyrCQ",
        "outputId": "05d20801-d882-46e0-ab18-e6edefece781"
      },
      "outputs": [],
      "source": [
        "!streamlit run /content/app.py & npx localtunnel --port 8501 & curl ipv4.icanhazip.com"
      ]
    },
    {
      "cell_type": "code",
      "execution_count": null,
      "metadata": {
        "id": "2lQH3hqnythg"
      },
      "outputs": [],
      "source": []
    }
  ],
  "metadata": {
    "colab": {
      "provenance": []
    },
    "kernelspec": {
      "display_name": "base",
      "language": "python",
      "name": "python3"
    },
    "language_info": {
      "codemirror_mode": {
        "name": "ipython",
        "version": 3
      },
      "file_extension": ".py",
      "mimetype": "text/x-python",
      "name": "python",
      "nbconvert_exporter": "python",
      "pygments_lexer": "ipython3",
      "version": "3.13.5"
    }
  },
  "nbformat": 4,
  "nbformat_minor": 0
}
